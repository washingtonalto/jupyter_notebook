{
 "cells": [
  {
   "cell_type": "code",
   "execution_count": 1,
   "id": "459c3966",
   "metadata": {},
   "outputs": [],
   "source": [
    "# Created by: Washington Alto\n",
    "# Date created: Oct 30, 2022\n",
    "# Special mention: Jose Portilla OpenCV course @ https://www.udemy.com/course/python-for-computer-vision-with-opencv-and-deep-learning/"
   ]
  },
  {
   "cell_type": "code",
   "execution_count": 2,
   "id": "1437d4a2",
   "metadata": {},
   "outputs": [],
   "source": [
    "import cv2\n",
    "import numpy as np\n",
    "import time"
   ]
  },
  {
   "cell_type": "code",
   "execution_count": 3,
   "id": "c2857d1e",
   "metadata": {},
   "outputs": [],
   "source": [
    "def get_tracker(trackerAlgoOption=1):\n",
    "    if trackerAlgoOption == 1:\n",
    "        tracker = cv2.TrackerMIL_create()\n",
    "    elif trackerAlgoOption == 2:\n",
    "        tracker = cv2.TrackerKCF_create()\n",
    "    elif trackerAlgoOption == 3:\n",
    "        tracker = cv2.TrackerCSRT_create()\n",
    "    return tracker"
   ]
  },
  {
   "cell_type": "code",
   "execution_count": 4,
   "id": "6ac54497",
   "metadata": {},
   "outputs": [],
   "source": [
    "def load_save_videofile(inputvideofilename,outputvideofilename):\n",
    "    \n",
    "    tracker = get_tracker(2)\n",
    "    cap = cv2.VideoCapture(inputvideofilename)\n",
    "    width = int(cap.get(cv2.CAP_PROP_FRAME_WIDTH))\n",
    "    height = int(cap.get(cv2.CAP_PROP_FRAME_HEIGHT))\n",
    "    fps = int(cap.get(cv2.CAP_PROP_FPS))\n",
    "    writer = cv2.VideoWriter(outputvideofilename,cv2.VideoWriter_fourcc(*'XVID'),fps,(width,height))\n",
    "\n",
    "    if cap.isOpened() == False:\n",
    "        print('ERROR FILE NOT FOUND OR WRONG CODEC USED!')\n",
    "        \n",
    "    # read first frame    \n",
    "    ret,frame = cap.read() # read \n",
    "    \n",
    "    # special function allows us to draw on the first frame our desired roi\n",
    "    roi = cv2.selectROI(frame,False)\n",
    "\n",
    "    # initialize tracker for the first frame and bounding box\n",
    "    ret = tracker.init(frame,roi)\n",
    "    \n",
    "    while cap.isOpened():\n",
    "    \n",
    "        ret,frame = cap.read() # read \n",
    "    \n",
    "        if ret == True:\n",
    "        \n",
    "             # update tracker\n",
    "            success, roi = tracker.update(frame)\n",
    "    \n",
    "            # roi is a tuple of 4 floats\n",
    "            (x,y,w,h) = tuple(map(int,roi))\n",
    "    \n",
    "            # draw rectangle as tracker moves\n",
    "            if success:\n",
    "                # tracking success\n",
    "                cv2.rectangle(frame,(x,y),(x+w,y+h),(0,255,0),3)\n",
    "                cv2.putText(frame,\"Object\",(x,y-10),cv2.FONT_HERSHEY_SIMPLEX,1,(0,255,0),3)\n",
    "            else:\n",
    "                # tracking failure\n",
    "                cv2.putText(frame,\"Failure to detect tracking!!\",(int(width/2),int(height/2)),cv2.FONT_HERSHEY_SIMPLEX,1,(0,255,0),3)\n",
    "           \n",
    "            cv2.imshow('Output Frame',frame)\n",
    "            writer.write(frame)\n",
    "            if cv2.waitKey(10) & 0xFF == ord('q'):\n",
    "                break\n",
    "            \n",
    "        else:\n",
    "            break\n",
    "        \n",
    "    cap.release()\n",
    "    cv2.destroyAllWindows()\n",
    "    "
   ]
  },
  {
   "cell_type": "code",
   "execution_count": 5,
   "id": "51e7270f",
   "metadata": {},
   "outputs": [],
   "source": [
    "input_file_name = \"Wash.MOV\"\n",
    "output_file_name = input_file_name.split(\".\")[0]+\"_output.mp4\"\n",
    "load_save_videofile('DATA/'+input_file_name,'DATA/'+output_file_name)"
   ]
  }
 ],
 "metadata": {
  "kernelspec": {
   "display_name": "Python 3",
   "language": "python",
   "name": "python3"
  },
  "language_info": {
   "codemirror_mode": {
    "name": "ipython",
    "version": 3
   },
   "file_extension": ".py",
   "mimetype": "text/x-python",
   "name": "python",
   "nbconvert_exporter": "python",
   "pygments_lexer": "ipython3",
   "version": "3.8.10"
  }
 },
 "nbformat": 4,
 "nbformat_minor": 5
}
