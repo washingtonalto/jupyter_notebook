{
 "cells": [
  {
   "cell_type": "code",
   "execution_count": 1,
   "id": "4c65346d",
   "metadata": {},
   "outputs": [],
   "source": [
    "# Created by: Washington Alto\n",
    "# Date created: Oct 30, 2022\n",
    "# Special mention: Jose Portilla OpenCV course @ https://www.udemy.com/course/python-for-computer-vision-with-opencv-and-deep-learning/"
   ]
  },
  {
   "cell_type": "code",
   "execution_count": null,
   "id": "4f271332",
   "metadata": {},
   "outputs": [],
   "source": [
    "import cv2\n",
    "import numpy as np\n",
    "import matplotlib.pyplot as plt"
   ]
  },
  {
   "cell_type": "code",
   "execution_count": null,
   "id": "6522a2f9",
   "metadata": {},
   "outputs": [],
   "source": [
    "def display(img,cmap='gray'):\n",
    "    fig = plt.figure(figsize=(12,10))\n",
    "    ax = fig.add_subplot(111)\n",
    "    img = cv2.cvtColor(img,cv2.COLOR_BGR2RGB)\n",
    "    ax.imshow(img,cmap='gray')"
   ]
  },
  {
   "cell_type": "code",
   "execution_count": null,
   "id": "c6142c31",
   "metadata": {},
   "outputs": [],
   "source": [
    "rizal_book = cv2.imread('DATA/Rizal-book.jpg')"
   ]
  },
  {
   "cell_type": "code",
   "execution_count": null,
   "id": "2902eec0",
   "metadata": {},
   "outputs": [],
   "source": [
    "display(rizal_book)"
   ]
  },
  {
   "cell_type": "code",
   "execution_count": null,
   "id": "ed57eea0",
   "metadata": {},
   "outputs": [],
   "source": [
    "bookshelves = cv2.imread('DATA/Wash - book.jpg')"
   ]
  },
  {
   "cell_type": "code",
   "execution_count": null,
   "id": "d51b4aaf",
   "metadata": {},
   "outputs": [],
   "source": [
    "display(bookshelves)"
   ]
  },
  {
   "cell_type": "code",
   "execution_count": null,
   "id": "5fd32a5b",
   "metadata": {},
   "outputs": [],
   "source": [
    "def feature_match(obj1,obj2):\n",
    "    # Initiate SIFT detector\n",
    "    sift = cv2.xfeatures2d.SIFT_create()\n",
    "\n",
    "    # find the keypoints and descriptors with SIFT\n",
    "    kp1, des1 = sift.detectAndCompute(obj1,None)\n",
    "    kp2, des2 = sift.detectAndCompute(obj2,None)\n",
    "\n",
    "    # FLANN parameters\n",
    "    FLANN_INDEX_KDTREE = 0\n",
    "    index_params = dict(algorithm = FLANN_INDEX_KDTREE, trees = 5)\n",
    "    search_params = dict(checks=75)  \n",
    "\n",
    "    flann = cv2.FlannBasedMatcher(index_params,search_params)\n",
    "\n",
    "    matches = flann.knnMatch(des1,des2,k=2)\n",
    "\n",
    "    # Need to draw only good matches, so create a mask\n",
    "    matchesMask = [[0,0] for i in range(len(matches))]\n",
    "\n",
    "    # ratio test\n",
    "    for i,(match1,match2) in enumerate(matches):\n",
    "        if match1.distance < 0.7*match2.distance:\n",
    "            matchesMask[i]=[1,0]\n",
    "\n",
    "    draw_params = dict(matchColor = (0,255,0),\n",
    "                       singlePointColor = (255,0,0),\n",
    "                       matchesMask = matchesMask,\n",
    "                       flags = 0)\n",
    "\n",
    "    flann_matches = cv2.drawMatchesKnn(obj1,kp1,obj2,kp2,matches,None,**draw_params)\n",
    "    \n",
    "    display(flann_matches)"
   ]
  },
  {
   "cell_type": "code",
   "execution_count": null,
   "id": "186bce29",
   "metadata": {},
   "outputs": [],
   "source": [
    "feature_match(rizal_book,bookshelves)"
   ]
  },
  {
   "cell_type": "code",
   "execution_count": null,
   "id": "d827038b",
   "metadata": {},
   "outputs": [],
   "source": []
  }
 ],
 "metadata": {
  "kernelspec": {
   "display_name": "Python 3",
   "language": "python",
   "name": "python3"
  },
  "language_info": {
   "codemirror_mode": {
    "name": "ipython",
    "version": 3
   },
   "file_extension": ".py",
   "mimetype": "text/x-python",
   "name": "python",
   "nbconvert_exporter": "python",
   "pygments_lexer": "ipython3",
   "version": "3.8.10"
  }
 },
 "nbformat": 4,
 "nbformat_minor": 5
}
