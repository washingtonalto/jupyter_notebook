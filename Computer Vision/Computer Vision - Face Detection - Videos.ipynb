{
 "cells": [
  {
   "cell_type": "code",
   "execution_count": null,
   "id": "d3e10847",
   "metadata": {},
   "outputs": [],
   "source": [
    "# Created by: Washington Alto\n",
    "# Date created: Oct 30, 2022\n",
    "# Special mention: Jose Portilla OpenCV course @ https://www.udemy.com/course/python-for-computer-vision-with-opencv-and-deep-learning/"
   ]
  },
  {
   "cell_type": "code",
   "execution_count": 1,
   "id": "1437d4a2",
   "metadata": {},
   "outputs": [],
   "source": [
    "import cv2\n",
    "import numpy as np\n",
    "import matplotlib.pyplot as plt"
   ]
  },
  {
   "cell_type": "code",
   "execution_count": 2,
   "id": "59e02ffa",
   "metadata": {},
   "outputs": [],
   "source": [
    "def detect_object(img,cascade,scaleFactor=1.2,label='Face detected',minNeighbors=5,rectColor=(0,255,0),rectLinethickness=5,fontScale=2):\n",
    "    \n",
    "  \n",
    "    face_img = img.copy()\n",
    "    face_rects = cascade.detectMultiScale(face_img,scaleFactor,minNeighbors) \n",
    "    \n",
    "    for (x,y,w,h) in face_rects: \n",
    "        cv2.rectangle(face_img, (x,y), (x+w,y+h),rectColor, rectLinethickness) \n",
    "        font = cv2.FONT_HERSHEY_SIMPLEX\n",
    "        cv2.putText(face_img,text=label,org=(x,y - 10), fontFace=font,fontScale=fontScale,color=rectColor,thickness=2,lineType=cv2.LINE_AA)\n",
    "\n",
    "        \n",
    "    return face_img\n",
    "    "
   ]
  },
  {
   "cell_type": "code",
   "execution_count": 3,
   "id": "1b0f6c9d",
   "metadata": {},
   "outputs": [],
   "source": [
    "humanface_cascade = cv2.CascadeClassifier('haarcascades/haarcascade_frontalface_alt.xml')"
   ]
  },
  {
   "cell_type": "code",
   "execution_count": 4,
   "id": "6ac54497",
   "metadata": {},
   "outputs": [],
   "source": [
    "def load_save_videofile(inputvideofilename,outputvideofilename):\n",
    "    cap = cv2.VideoCapture(inputvideofilename)\n",
    "    width = int(cap.get(cv2.CAP_PROP_FRAME_WIDTH))\n",
    "    height = int(cap.get(cv2.CAP_PROP_FRAME_HEIGHT))\n",
    "    fps = int(cap.get(cv2.CAP_PROP_FPS))\n",
    "    writer = cv2.VideoWriter(outputvideofilename,cv2.VideoWriter_fourcc(*'XVID'),fps,(width,height))\n",
    "\n",
    "    if cap.isOpened() == False:\n",
    "        print('ERROR FILE NOT FOUND OR WRONG CODEC USED!')\n",
    "    \n",
    "    while cap.isOpened():\n",
    "    \n",
    "        ret,frame = cap.read() # read \n",
    "    \n",
    "        if ret == True:\n",
    "        \n",
    "            # Face Detection here\n",
    "            outputframe = detect_object(frame,humanface_cascade,label='Face detected')\n",
    "            \n",
    "            cv2.imshow('frame',outputframe)\n",
    "            writer.write(outputframe)\n",
    "            if cv2.waitKey(10) & 0xFF == ord('q'):\n",
    "                break\n",
    "            \n",
    "        else:\n",
    "            break\n",
    "        \n",
    "    cap.release()\n",
    "    cv2.destroyAllWindows()\n",
    "    "
   ]
  },
  {
   "cell_type": "code",
   "execution_count": 5,
   "id": "d5b08f4b",
   "metadata": {},
   "outputs": [],
   "source": [
    "load_save_videofile('DATA/Wash.MOV','DATA/Wash_facedetect.mp4')"
   ]
  }
 ],
 "metadata": {
  "kernelspec": {
   "display_name": "Python 3",
   "language": "python",
   "name": "python3"
  },
  "language_info": {
   "codemirror_mode": {
    "name": "ipython",
    "version": 3
   },
   "file_extension": ".py",
   "mimetype": "text/x-python",
   "name": "python",
   "nbconvert_exporter": "python",
   "pygments_lexer": "ipython3",
   "version": "3.8.10"
  }
 },
 "nbformat": 4,
 "nbformat_minor": 5
}
